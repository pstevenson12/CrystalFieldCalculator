{
 "cells": [
  {
   "cell_type": "code",
   "execution_count": 1,
   "metadata": {},
   "outputs": [],
   "source": [
    "import numpy as np\n",
    "import matplotlib.pyplot as plt\n",
    "\n",
    "from SpecFunctions import *\n",
    "# from HamiltonianFunctions import *\n",
    "# from PointChargeFunctions import *"
   ]
  },
  {
   "cell_type": "code",
   "execution_count": 2,
   "metadata": {},
   "outputs": [],
   "source": [
    "h_template = build_hcf(15/2)\n",
    "\n",
    "xLLW = 1.0\n",
    "b40 = -(273/-0.00151514)*xLLW/60.\n",
    "b44 = -b40*5/np.sqrt(70)\n",
    "b60 = -(65/-8.40909132e-06)*(1-np.abs(xLLW))/(13860.)\n",
    "b64 = b60*21/(3*np.sqrt(14))\n",
    "       \n",
    "\n",
    "bdict = {'B2':[0,0,0],'B4':[421.67,0,0,0,251.996],'B6':[12.83,0,0,0,-24.007,0,0]}\n",
    "\n",
    "gs_calc_dict = calculate_states(bdict,15/2,h_template)\n",
    "\n",
    "h_template = build_hcf(13/2)\n",
    "es_calc_dict = calculate_states(bdict,13/2,h_template)"
   ]
  },
  {
   "cell_type": "code",
   "execution_count": 6,
   "metadata": {},
   "outputs": [
    {
     "data": {
      "image/png": "[encoded data removed]",
      "text/plain": [
       "<Figure size 432x288 with 1 Axes>"
      ]
     },
     "metadata": {
      "needs_background": "light"
     },
     "output_type": "display_data"
    }
   ],
   "source": [
    "a_exc,b_exc = calc_spectrum(gs_calc_dict,es_calc_dict,Spectrum='Excitation',Temperature=1.0)\n",
    "a_em,b_em = calc_spectrum(gs_calc_dict,es_calc_dict,Spectrum='Emission',Temperature=1.0)\n",
    "a_2d,b_2d = calc_spectrum(gs_calc_dict,es_calc_dict,Spectrum='2D',Temperature=1.0)\n",
    "\n",
    "\n",
    "plt.figure()\n",
    "plt.plot(a_exc,b_exc)\n",
    "plt.plot(a_exc,b_em)\n",
    "plt.xlim(6400,6600)\n",
    "plt.show()"
   ]
  },
  {
   "cell_type": "code",
   "execution_count": 4,
   "metadata": {},
   "outputs": [
    {
     "name": "stderr",
     "output_type": "stream",
     "text": [
      "C:\\Users\\Paul\\Google Drive\\Github\\CrystalFieldCalculator\\PointChargeFunctions.py:24: RuntimeWarning: divide by zero encountered in true_divide\n",
      "  phivec = np.arctan(ions[:, 1] / ions[:, 0])\n",
      "C:\\Users\\Paul\\Google Drive\\Github\\CrystalFieldCalculator\\PointChargeFunctions.py:24: RuntimeWarning: invalid value encountered in true_divide\n",
      "  phivec = np.arctan(ions[:, 1] / ions[:, 0])\n"
     ]
    },
    {
     "data": {
      "text/plain": [
       "{'B2': [-0.0, -0.0, -0.0],\n",
       " 'B4': [421.67017367719865,\n",
       "  1.1546988590818416e-14,\n",
       "  -0.0,\n",
       "  -0.0,\n",
       "  251.99612764099518],\n",
       " 'B6': [12.832550456635177,\n",
       "  -2.6916721800763245e-15,\n",
       "  -0.0,\n",
       "  1.6401645141979728e-15,\n",
       "  -24.007503603609162,\n",
       "  -0.0,\n",
       "  -0.0]}"
      ]
     },
     "metadata": {},
     "output_type": "display_data"
    }
   ],
   "source": [
    "x0 = 2.0e-10\n",
    "\n",
    "iontest = np.asarray([[x0,0,0,-2],\n",
    "                     [-x0,0,0,-2],\n",
    "                     [0,x0,0,-2],\n",
    "                     [0,-x0,0,-2],\n",
    "                     [0,0,x0,-2],\n",
    "                     [0,0,-x0,-2]\n",
    "                     ])\n",
    "\n",
    "b_dict = calc_cf_params(iontest)\n",
    "\n",
    "h_template = build_hcf(15/2)"
   ]
  }
 ],
 "metadata": {
  "kernelspec": {
   "display_name": "Python 3",
   "language": "python",
   "name": "python3"
  },
  "language_info": {
   "codemirror_mode": {
    "name": "ipython",
    "version": 3
   },
   "file_extension": ".py",
   "mimetype": "text/x-python",
   "name": "python",
   "nbconvert_exporter": "python",
   "pygments_lexer": "ipython3",
   "version": "3.7.6"
  }
 },
 "nbformat": 4,
 "nbformat_minor": 2
}
