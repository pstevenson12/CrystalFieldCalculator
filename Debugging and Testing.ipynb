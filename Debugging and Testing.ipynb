{
 "cells": [
  {
   "cell_type": "code",
   "execution_count": 1,
   "metadata": {},
   "outputs": [],
   "source": [
    "import numpy as np\n",
    "import matplotlib.pyplot as plt\n",
    "\n",
    "from SpecFunctions import *\n",
    "from HamiltonianFunctions import *\n",
    "from PointChargeFunctions import *\n",
    "\n",
    "def gen_oh(x0):\n",
    "    iontest = np.asarray([[x0,0,0,-2],\n",
    "                     [-x0,0,0,-2],\n",
    "                     [0,x0,0,-2],\n",
    "                     [0,-x0,0,-2],\n",
    "                     [0,0,x0,-2],\n",
    "                     [0,0,-x0,-2]\n",
    "                     ])\n",
    "    return iontest\n",
    "\n",
    "def gen_dist_oh(x0,z0):\n",
    "    iontest = np.asarray([[x0,0,0,-2],\n",
    "                     [-x0,0,0,-2],\n",
    "                     [0,x0,0,-2],\n",
    "                     [0,-x0,0,-2],\n",
    "                     [0,0,z0,-2],\n",
    "                     [0,0,-z0,-2]\n",
    "                     ])\n",
    "    return iontest"
   ]
  },
  {
   "cell_type": "code",
   "execution_count": 2,
   "metadata": {
    "scrolled": false
   },
   "outputs": [
    {
     "ename": "NameError",
     "evalue": "name 'zpos' is not defined",
     "output_type": "error",
     "traceback": [
      "\u001b[1;31m---------------------------------------------------------------------------\u001b[0m",
      "\u001b[1;31mNameError\u001b[0m                                 Traceback (most recent call last)",
      "\u001b[1;32m<ipython-input-2-20b19742985e>\u001b[0m in \u001b[0;36m<module>\u001b[1;34m\u001b[0m\n\u001b[0;32m     10\u001b[0m \u001b[0mparam_list_x\u001b[0m \u001b[1;33m=\u001b[0m \u001b[1;33m[\u001b[0m\u001b[0mpc\u001b[0m\u001b[1;33m.\u001b[0m\u001b[0mcalc_cf_params\u001b[0m\u001b[1;33m(\u001b[0m\u001b[0mgen_oh\u001b[0m\u001b[1;33m(\u001b[0m\u001b[0mx0\u001b[0m\u001b[1;33m)\u001b[0m\u001b[1;33m)\u001b[0m \u001b[1;32mfor\u001b[0m \u001b[0mx0\u001b[0m \u001b[1;32min\u001b[0m \u001b[0mxpos\u001b[0m\u001b[1;33m]\u001b[0m\u001b[1;33m\u001b[0m\u001b[1;33m\u001b[0m\u001b[0m\n\u001b[0;32m     11\u001b[0m \u001b[1;33m\u001b[0m\u001b[0m\n\u001b[1;32m---> 12\u001b[1;33m spec_dict = {'Linear':np.zeros((1000,zpos.size)),'RHC':np.zeros((1000,zpos.size)),\n\u001b[0m\u001b[0;32m     13\u001b[0m              'LHC':np.zeros((1000,zpos.size))}\n\u001b[0;32m     14\u001b[0m \u001b[1;33m\u001b[0m\u001b[0m\n",
      "\u001b[1;31mNameError\u001b[0m: name 'zpos' is not defined"
     ]
    }
   ],
   "source": [
    "# look at the effect of changing the Er-X distance uniformly\n",
    "\n",
    "so_gs = StevensOperators(15/2)\n",
    "so_es = StevensOperators(13/2)\n",
    "sc = SpectrumCalculator()\n",
    "pc = PointCharge()\n",
    "\n",
    "xpos = 1e-10*np.linspace(1.6,2.7,501)\n",
    "\n",
    "param_list_x = [pc.calc_cf_params(gen_oh(x0)) for x0 in xpos]\n",
    "\n",
    "spec_dict = {'Linear':np.zeros((1000,zpos.size)),'RHC':np.zeros((1000,zpos.size)),\n",
    "             'LHC':np.zeros((1000,zpos.size))}\n",
    "\n",
    "for k, dict_it in enumerate(param_list_x):\n",
    "    ham_gs = so_gs.build_ham(dict_it)\n",
    "    gs_ev_dict = so_gs.proc_ham(ham_gs)\n",
    "    ham_es = so_es.build_ham(dict_it)\n",
    "    es_ev_dict = so_es.proc_ham(ham_es)\n",
    "    #\n",
    "    freq_ax,temp_spec = sc.calc_spectrum(gs_ev_dict,es_ev_dict,\n",
    "                                      Spectrum='Excitation',Temperature=5.0,Polarization='Linear',z1y1=6200)\n",
    "    temp_spec_con = sc.convolve_spectrum(freq_ax,temp_spec,2.)\n",
    "    spec_dict['Linear'][:,k] = temp_spec_con\n",
    "    #\n",
    "    _,temp_spec = sc.calc_spectrum(gs_ev_dict,es_ev_dict,\n",
    "                                      Spectrum='Excitation',Temperature=5.0,Polarization='RHC',z1y1=6200)\n",
    "    temp_spec_con = sc.convolve_spectrum(freq_ax,temp_spec,2.)\n",
    "    spec_dict['RHC'][:,k] = temp_spec_con\n",
    "    #\n",
    "    _,temp_spec = sc.calc_spectrum(gs_ev_dict,es_ev_dict,\n",
    "                                      Spectrum='Excitation',Temperature=5.0,Polarization='LHC',z1y1=6200)\n",
    "    temp_spec_con = sc.convolve_spectrum(freq_ax,temp_spec,2.)\n",
    "    spec_dict['LHC'][:,k] = temp_spec_con\n"
   ]
  },
  {
   "cell_type": "code",
   "execution_count": null,
   "metadata": {},
   "outputs": [],
   "source": [
    "%matplotlib notebook\n",
    "\n",
    "plt.figure()\n",
    "plt.contourf(freq_ax,xpos,spec_dict['Linear'].T\n",
    "             +spec_dict['RHC'].T\n",
    "             +spec_dict['LHC'].T,40)\n",
    "plt.show()"
   ]
  },
  {
   "cell_type": "code",
   "execution_count": null,
   "metadata": {},
   "outputs": [],
   "source": [
    "# look at the effect of distorting an Oh along a C4 axis - elongating the axial pair\n",
    "%matplotlib notebook\n",
    "\n",
    "so_gs = StevensOperators(15/2)\n",
    "so_es = StevensOperators(13/2)\n",
    "sc = SpectrumCalculator()\n",
    "pc = PointCharge()\n",
    "\n",
    "zpos = 1e-10*np.linspace(1.5,3.0,501)\n",
    "x0 = 1.8e-10\n",
    "\n",
    "param_list_x = [pc.calc_cf_params(gen_dist_oh(x0,z0)) for z0 in zpos]\n",
    "\n",
    "spec_dict = {'Linear':np.zeros((1000,zpos.size)),'RHC':np.zeros((1000,zpos.size)),\n",
    "             'LHC':np.zeros((1000,zpos.size))}\n",
    "\n",
    "for k, dict_it in enumerate(param_list_x):\n",
    "    ham_gs = so_gs.build_ham(dict_it)\n",
    "    gs_ev_dict = so_gs.proc_ham(ham_gs)\n",
    "    ham_es = so_es.build_ham(dict_it)\n",
    "    es_ev_dict = so_es.proc_ham(ham_es)\n",
    "    #\n",
    "    freq_ax,temp_spec = sc.calc_spectrum(gs_ev_dict,es_ev_dict,\n",
    "                                      Spectrum='Excitation',Temperature=5.0,Polarization='Linear',z1y1=6200)\n",
    "    temp_spec_con = sc.convolve_spectrum(freq_ax,temp_spec,2.)\n",
    "    spec_dict['Linear'][:,k] = temp_spec_con\n",
    "    #\n",
    "    _,temp_spec = sc.calc_spectrum(gs_ev_dict,es_ev_dict,\n",
    "                                      Spectrum='Excitation',Temperature=5.0,Polarization='RHC',z1y1=6200)\n",
    "    temp_spec_con = sc.convolve_spectrum(freq_ax,temp_spec,2.)\n",
    "    spec_dict['RHC'][:,k] = temp_spec_con\n",
    "    #\n",
    "    _,temp_spec = sc.calc_spectrum(gs_ev_dict,es_ev_dict,\n",
    "                                      Spectrum='Excitation',Temperature=5.0,Polarization='LHC',z1y1=6200)\n",
    "    temp_spec_con = sc.convolve_spectrum(freq_ax,temp_spec,2.)\n",
    "    spec_dict['LHC'][:,k] = temp_spec_con"
   ]
  },
  {
   "cell_type": "code",
   "execution_count": null,
   "metadata": {},
   "outputs": [],
   "source": [
    "%matplotlib notebook\n",
    "\n",
    "plt.figure()\n",
    "plt.contourf(freq_ax,zpos-x0,spec_dict['Linear'].T\n",
    "             +spec_dict['RHC'].T\n",
    "             +spec_dict['LHC'].T,40)\n",
    "plt.show()"
   ]
  },
  {
   "cell_type": "code",
   "execution_count": null,
   "metadata": {},
   "outputs": [],
   "source": [
    "# look at the effect of distorting an Oh along a C4 axis - elongating the equatorial four\n",
    "%matplotlib notebook\n",
    "\n",
    "so_gs = StevensOperators(15/2)\n",
    "so_es = StevensOperators(13/2)\n",
    "sc = SpectrumCalculator()\n",
    "pc = PointCharge()\n",
    "\n",
    "xpos = 1e-10*np.linspace(1.5,3.0,501)\n",
    "z0 = 1.8e-10\n",
    "\n",
    "param_list_x = [pc.calc_cf_params(gen_dist_oh(x0,z0)) for x0 in xpos]\n",
    "\n",
    "spec_dict = {'Linear':np.zeros((1000,xpos.size)),'RHC':np.zeros((1000,xpos.size)),\n",
    "             'LHC':np.zeros((1000,xpos.size))}\n",
    "\n",
    "for k, dict_it in enumerate(param_list_x):\n",
    "    ham_gs = so_gs.build_ham(dict_it)\n",
    "    gs_ev_dict = so_gs.proc_ham(ham_gs)\n",
    "    ham_es = so_es.build_ham(dict_it)\n",
    "    es_ev_dict = so_es.proc_ham(ham_es)\n",
    "    #\n",
    "    freq_ax,temp_spec = sc.calc_spectrum(gs_ev_dict,es_ev_dict,\n",
    "                                      Spectrum='Excitation',Temperature=5.0,Polarization='Linear',z1y1=6200)\n",
    "    temp_spec_con = sc.convolve_spectrum(freq_ax,temp_spec,2.)\n",
    "    spec_dict['Linear'][:,k] = temp_spec_con\n",
    "    #\n",
    "    _,temp_spec = sc.calc_spectrum(gs_ev_dict,es_ev_dict,\n",
    "                                      Spectrum='Excitation',Temperature=5.0,Polarization='RHC',z1y1=6200)\n",
    "    temp_spec_con = sc.convolve_spectrum(freq_ax,temp_spec,2.)\n",
    "    spec_dict['RHC'][:,k] = temp_spec_con\n",
    "    #\n",
    "    _,temp_spec = sc.calc_spectrum(gs_ev_dict,es_ev_dict,\n",
    "                                      Spectrum='Excitation',Temperature=5.0,Polarization='LHC',z1y1=6200)\n",
    "    temp_spec_con = sc.convolve_spectrum(freq_ax,temp_spec,2.)\n",
    "    spec_dict['LHC'][:,k] = temp_spec_con"
   ]
  },
  {
   "cell_type": "code",
   "execution_count": null,
   "metadata": {},
   "outputs": [],
   "source": [
    "%matplotlib notebook\n",
    "\n",
    "plt.figure()\n",
    "plt.contourf(freq_ax,zpos-x0,spec_dict['Linear'].T\n",
    "             +spec_dict['RHC'].T\n",
    "             +spec_dict['LHC'].T,40)\n",
    "plt.show()"
   ]
  }
 ],
 "metadata": {
  "kernelspec": {
   "display_name": "Python 3",
   "language": "python",
   "name": "python3"
  },
  "language_info": {
   "codemirror_mode": {
    "name": "ipython",
    "version": 3
   },
   "file_extension": ".py",
   "mimetype": "text/x-python",
   "name": "python",
   "nbconvert_exporter": "python",
   "pygments_lexer": "ipython3",
   "version": "3.7.6"
  }
 },
 "nbformat": 4,
 "nbformat_minor": 4
}
