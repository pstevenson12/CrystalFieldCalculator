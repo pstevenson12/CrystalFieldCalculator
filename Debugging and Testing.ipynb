{
 "cells": [
  {
   "cell_type": "code",
   "execution_count": 1,
   "metadata": {},
   "outputs": [],
   "source": [
    "import numpy as np\n",
    "import matplotlib.pyplot as plt\n",
    "\n",
    "from SpecFunctions import *\n",
    "from HamiltonianFunctions import *\n",
    "# from HamiltonianFunctions import *\n",
    "# from PointChargeFunctions import *"
   ]
  },
  {
   "cell_type": "code",
   "execution_count": 2,
   "metadata": {},
   "outputs": [
    {
     "name": "stdout",
     "output_type": "stream",
     "text": [
      "[133.21035996  16.52271164 -75.71657678 -89.91662805 -40.21193853\n",
      "  30.7408523   79.37253933  79.37253933  30.7408523  -40.21193853\n",
      " -89.91662805 -75.71657678  16.52271164 133.21035996]\n",
      "133.21035995747476\n"
     ]
    }
   ],
   "source": [
    "test = StevensOperators(15/2)\n",
    "print(np.diag(test.o_6_2(),2)/1320)\n",
    "print(13*np.sqrt(105))"
   ]
  },
  {
   "cell_type": "code",
   "execution_count": null,
   "metadata": {},
   "outputs": [],
   "source": [
    "def GenOperators(Jval):\n",
    "    J2 = Jval*(Jval+1)*np.eye(int(2*Jval+1))\n",
    "    Jz = np.diag(np.arange(-1*Jval,Jval+1))\n",
    "    Jp = np.diag(np.sqrt(Jval*(Jval+1)-np.arange(-1*Jval,Jval+1)[0:-1]*np.arange(-1*Jval,Jval+1)[1:]),k=1)\n",
    "    Jm = np.diag(np.sqrt(Jval*(Jval+1)-np.arange(-1*Jval,Jval+1)[0:-1]*np.arange(-1*Jval,Jval+1)[1:]),k=-1)\n",
    "    \n",
    "    O40 = 35*np.linalg.matrix_power(Jz,4) - (30*Jval*(Jval+1) -25)*np.linalg.matrix_power(Jz,2) - 6*J2 + 3*J2@J2\n",
    "    O44 = 0.5*(np.linalg.matrix_power(Jp,4)  + np.linalg.matrix_power(Jm,4))\n",
    "    \n",
    "    O60 = (231*np.linalg.matrix_power(Jz,6) - 105*3*J2@np.linalg.matrix_power(Jz,4) + 105*7*np.linalg.matrix_power(Jz,4) +\n",
    "       105*J2@J2@Jz@Jz - 525*J2@Jz@Jz + 294*Jz@Jz - 5*J2@J2@J2 + 40*J2@J2 - 60*J2)\n",
    "\n",
    "    O64 = 0.25*(11*Jz@Jz - J2 - 38*np.eye(int(2*Jval+1)))@(Jp@Jp@Jp@Jp + Jm@Jm@Jm@Jm) + 0.25*(Jp@Jp@Jp@Jp + Jm@Jm@Jm@Jm)@(11*Jz@Jz - J2 - 38*np.eye(int(2*Jval+1)))\n",
    "\n",
    "    O4 = O40 + 5*O44\n",
    "    O6 = O60 - 21*O64\n",
    "\n",
    "    F4 = 60.\n",
    "    if Jval==15/2:\n",
    "        F6 = 13860.\n",
    "    else:\n",
    "        F6=4*2160.\n",
    "    return O4/F4, O6/F6\n",
    "\n",
    "def CalcEigVals(xval,O4,O6):\n",
    "    Ham = xval*O4 + (1-np.abs(xval))*O6\n",
    "    return np.linalg.eigh(Ham)"
   ]
  },
  {
   "cell_type": "code",
   "execution_count": null,
   "metadata": {},
   "outputs": [],
   "source": [
    "GSO4, GSO6 = GenOperators(15/2)\n",
    "\n",
    "ESO4, ESO6 = GenOperators(13/2)\n",
    "\n",
    "GSout = CalcEigVals(1.0,GSO4,GSO6)\n",
    "\n",
    "GSmjvec = 2*np.arange(-15/2,16/2)\n",
    "\n",
    "ESmjvec = 2*np.arange(-13/2,14/2)\n",
    "\n",
    "ESout = CalcEigVals(1.0,ESO4,ESO6)\n",
    "\n",
    "plt.figure()\n",
    "plt.plot(GSmjvec,GSout[1][:,0],'-o')\n",
    "plt.plot(ESmjvec,ESout[1][:,0],'-o')\n",
    "plt.show()"
   ]
  },
  {
   "cell_type": "code",
   "execution_count": null,
   "metadata": {},
   "outputs": [],
   "source": [
    "gs_calc_dict = {'eigenvalues':GSout[0],'eigenvecs':GSout[1],'Jval':15/2}\n",
    "es_calc_dict = {'eigenvalues':ESout[0],'eigenvecs':ESout[1],'Jval':13/2}\n",
    "\n",
    "a_exc,b_exc = calc_spectrum(gs_calc_dict,es_calc_dict,Spectrum='Excitation',Temperature=1.0)\n",
    "a_em,b_em = calc_spectrum(gs_calc_dict,es_calc_dict,Spectrum='Emission',Temperature=1.0)\n",
    "\n",
    "plt.figure()\n",
    "plt.plot(a_exc,b_exc)\n",
    "plt.plot(a_em,b_em)\n",
    "plt.show()"
   ]
  }
 ],
 "metadata": {
  "kernelspec": {
   "display_name": "Python 3",
   "language": "python",
   "name": "python3"
  },
  "language_info": {
   "codemirror_mode": {
    "name": "ipython",
    "version": 3
   },
   "file_extension": ".py",
   "mimetype": "text/x-python",
   "name": "python",
   "nbconvert_exporter": "python",
   "pygments_lexer": "ipython3",
   "version": "3.7.6"
  }
 },
 "nbformat": 4,
 "nbformat_minor": 4
}
