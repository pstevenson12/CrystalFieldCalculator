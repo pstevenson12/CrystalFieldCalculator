{
 "cells": [
  {
   "cell_type": "code",
   "execution_count": 40,
   "metadata": {},
   "outputs": [],
   "source": [
    "import numpy as np\n",
    "import matplotlib.pyplot as plt\n",
    "\n",
    "from ExtendedHamiltonianFunctions import *"
   ]
  },
  {
   "cell_type": "code",
   "execution_count": 63,
   "metadata": {},
   "outputs": [
    {
     "name": "stdout",
     "output_type": "stream",
     "text": [
      "Ground state splittings:[-152.7 -131.8 -126.3 -100.6   79.   119.6  143.6  169.2]\n",
      "Excited state splittings:[-99.8 -93.1 -53.2  24.9  55.9  75.5  89.8]\n",
      "Z1 g tensor:[1.1971782552260097, 8.454007613059224]\n",
      "Z2 g tensor:[3.6342204766516018, 7.040858286978018]\n"
     ]
    }
   ],
   "source": [
    "thetval = 0.0/180*np.pi\n",
    "Bmax = 1e-5\n",
    "bvec = np.asarray([Bmax*np.sin(thetval),0.0,Bmax*np.cos(thetval)])\n",
    "\n",
    "stevoop_e_gs = ExtendedStevensOperators(15/2)\n",
    "stevoop_e_gs.set_bfield(bvec)\n",
    "stevoop_e_es = ExtendedStevensOperators(13/2)\n",
    "stevoop_e_es.set_bfield(bvec)\n",
    "\n",
    "params = np.asarray([231.,-90.,-0.6,852.,0.0,396.,75.])\n",
    "\n",
    "ground_state = stevoop_e_gs.build_ham(params)\n",
    "w_g,v_g = np.linalg.eigh(ground_state)\n",
    "v[np.abs(v)<1e-8] = 0.0\n",
    "\n",
    "excited_state = stevoop_e_es.build_ham(params)\n",
    "w_e,v_e = np.linalg.eigh(excited_state)\n",
    "\n",
    "# now test outputs\n",
    "\n",
    "print('Ground state splittings:'+str(np.unique(np.round(w_g,1))))\n",
    "print('Excited state splittings:'+str(np.unique(np.round(w_e,1))))\n",
    "\n",
    "print('Z1 g tensor:'+str(stevoop_e_gs.calc_g([v_g[:,0],v_g[:,1]])))\n",
    "print('Z2 g tensor:'+str(stevoop_e_gs.calc_g([v_g[:,2],v_g[:,3]])))"
   ]
  }
 ],
 "metadata": {
  "kernelspec": {
   "display_name": "Python 3",
   "language": "python",
   "name": "python3"
  },
  "language_info": {
   "codemirror_mode": {
    "name": "ipython",
    "version": 3
   },
   "file_extension": ".py",
   "mimetype": "text/x-python",
   "name": "python",
   "nbconvert_exporter": "python",
   "pygments_lexer": "ipython3",
   "version": "3.7.6"
  }
 },
 "nbformat": 4,
 "nbformat_minor": 4
}
