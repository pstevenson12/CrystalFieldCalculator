{
 "cells": [
  {
   "cell_type": "code",
   "execution_count": 1,
   "metadata": {},
   "outputs": [],
   "source": [
    "import numpy as np\n",
    "import matplotlib.pyplot as plt\n",
    "\n",
    "from SpecFunctions import *\n",
    "from HamiltonianFunctions import *\n",
    "from PointChargeFunctions import *"
   ]
  },
  {
   "cell_type": "code",
   "execution_count": 2,
   "metadata": {},
   "outputs": [],
   "source": [
    "# test = StevensOperators(15/2)\n",
    "# bdict_test = {'B2':[0,0,0],'B4':[1.0,0,0,0,-5],'B6':[0,0,0,0,0,0,0]}\n",
    "# plt.figure()\n",
    "# plt.imshow(test.build_ham(bdict_test))\n",
    "# plt.show()"
   ]
  },
  {
   "cell_type": "code",
   "execution_count": 3,
   "metadata": {},
   "outputs": [],
   "source": [
    "def GenOperators(Jval):\n",
    "    J2 = Jval*(Jval+1)*np.eye(int(2*Jval+1))\n",
    "    Jz = np.diag(np.arange(-1*Jval,Jval+1))\n",
    "    Jp = np.diag(np.sqrt(Jval*(Jval+1)-np.arange(-1*Jval,Jval+1)[0:-1]*np.arange(-1*Jval,Jval+1)[1:]),k=1)\n",
    "    Jm = np.diag(np.sqrt(Jval*(Jval+1)-np.arange(-1*Jval,Jval+1)[0:-1]*np.arange(-1*Jval,Jval+1)[1:]),k=-1)\n",
    "    \n",
    "    O40 = 35*np.linalg.matrix_power(Jz,4) - (30*Jval*(Jval+1) -25)*np.linalg.matrix_power(Jz,2) - 6*J2 + 3*J2@J2\n",
    "    O44 = 0.5*(np.linalg.matrix_power(Jp,4)  + np.linalg.matrix_power(Jm,4))\n",
    "    \n",
    "    O60 = (231*np.linalg.matrix_power(Jz,6) - 105*3*J2@np.linalg.matrix_power(Jz,4) + 105*7*np.linalg.matrix_power(Jz,4) +\n",
    "       105*J2@J2@Jz@Jz - 525*J2@Jz@Jz + 294*Jz@Jz - 5*J2@J2@J2 + 40*J2@J2 - 60*J2)\n",
    "\n",
    "    O64 = 0.25*(11*Jz@Jz - J2 - 38*np.eye(int(2*Jval+1)))@(Jp@Jp@Jp@Jp + Jm@Jm@Jm@Jm) + 0.25*(Jp@Jp@Jp@Jp + Jm@Jm@Jm@Jm)@(11*Jz@Jz - J2 - 38*np.eye(int(2*Jval+1)))\n",
    "\n",
    "    O4 = O40 + 5*O44\n",
    "    O6 = O60 - 21*O64\n",
    "\n",
    "    F4 = 60.\n",
    "    if Jval==15/2:\n",
    "        F6 = 13860.\n",
    "    else:\n",
    "        F6=4*2160.\n",
    "    return O4/F4, O6/F6\n",
    "\n",
    "def GenOperators2(Jval):\n",
    "    ops = StevensOperators(Jval)\n",
    "    O40 = ops.o_mat(4,0)\n",
    "    O44 = ops.o_mat(4,4)\n",
    "    \n",
    "    O60 = ops.o_mat(6,0)\n",
    "    O64 = ops.o_mat(6,4)\n",
    "    \n",
    "    O4 = O40 + 5*O44\n",
    "    O6 = O60 - 21*O64\n",
    "\n",
    "    F4 = 60.\n",
    "    if Jval==15/2:\n",
    "        F6 = 13860.\n",
    "    else:\n",
    "        F6=4*2160.\n",
    "    return O4/F4, O6/F6\n",
    "\n",
    "def CalcEigVals(xval,O4,O6):\n",
    "    Ham = xval*O4 + (1-np.abs(xval))*O6\n",
    "    return np.linalg.eigh(Ham)"
   ]
  },
  {
   "cell_type": "code",
   "execution_count": 4,
   "metadata": {},
   "outputs": [],
   "source": [
    "# xvec = np.linspace(-1,1,101)\n",
    "\n",
    "# GSO4, GSO6 = GenOperators2(15/2)\n",
    "# ESO4, ESO6 = GenOperators2(13/2)\n",
    "\n",
    "# GSoutdata = [CalcEigVals(xval,GSO4,GSO6) for xval in xvec]\n",
    "\n",
    "# GSeigvals = np.asarray([dat[0] for dat in GSoutdata])\n",
    "# GSeigvecs = np.asarray([dat[1] for dat in GSoutdata])\n",
    "\n",
    "# ESoutdata = [CalcEigVals(xval,ESO4,ESO6) for xval in xvec]\n",
    "\n",
    "# ESeigvals = np.asarray([dat[0] for dat in ESoutdata])\n",
    "# ESeigvecs = np.asarray([dat[1] for dat in ESoutdata])\n",
    "\n",
    "# %matplotlib notebook\n",
    "\n",
    "# plt.figure()\n",
    "# [plt.plot(xvec,pltvec) for pltvec in ESeigvals.T]\n",
    "# plt.show()"
   ]
  },
  {
   "cell_type": "code",
   "execution_count": 5,
   "metadata": {},
   "outputs": [
    {
     "data": {
      "image/png": "[encoded data removed]",
      "text/plain": [
       "<Figure size 432x288 with 1 Axes>"
      ]
     },
     "metadata": {
      "needs_background": "light"
     },
     "output_type": "display_data"
    }
   ],
   "source": [
    "GSO4, GSO6 = GenOperators(15/2)\n",
    "\n",
    "ESO4, ESO6 = GenOperators(13/2)\n",
    "\n",
    "GSout = CalcEigVals(1.0,GSO4,GSO6)\n",
    "\n",
    "GSmjvec = 2*np.arange(-15/2,16/2)\n",
    "\n",
    "ESmjvec = 2*np.arange(-13/2,14/2)\n",
    "\n",
    "ESout = CalcEigVals(1.0,ESO4,ESO6)\n",
    "\n",
    "plt.figure()\n",
    "plt.plot(GSmjvec,GSout[1][:,0],'-o')\n",
    "plt.plot(ESmjvec,ESout[1][:,0],'-o')\n",
    "plt.show()"
   ]
  },
  {
   "cell_type": "code",
   "execution_count": 6,
   "metadata": {},
   "outputs": [],
   "source": [
    "# gs_calc_dict = {'eigenvalues':GSout[0],'eigenvecs':GSout[1],'Jval':15/2}\n",
    "# es_calc_dict = {'eigenvalues':ESout[0],'eigenvecs':ESout[1],'Jval':13/2}\n",
    "\n",
    "# sc = SpectrumCalculator()\n",
    "\n",
    "# a_exc,b_exc = xx.calc_spectrum(gs_calc_dict,es_calc_dict,Spectrum='Excitation',Temperature=1.0,Polarization='Linear')\n",
    "# print(b_exc.shape)\n",
    "# bc_exc = xx.convolve_spectrum(a_exc,b_exc,5)\n",
    "# # a2_exc,b2_exc = xx.calc_spectrum(gs_calc_dict,es_calc_dict,Spectrum='Excitation',Temperature=1.0,Polarization='RHC')\n",
    "# # a_em,b_em = xx.calc_spectrum(gs_calc_dict,es_calc_dict,Spectrum='Emission',Temperature=1.0,Polarization='RHC')\n",
    "\n",
    "# plt.figure()\n",
    "# # plt.plot(a_exc,b_exc)\n",
    "# plt.plot(a_exc,bc_exc)\n",
    "# # plt.plot(a_em,b_em)\n",
    "# plt.show()"
   ]
  },
  {
   "cell_type": "code",
   "execution_count": 44,
   "metadata": {},
   "outputs": [
    {
     "name": "stderr",
     "output_type": "stream",
     "text": [
      "C:\\Users\\Paul\\Google Drive\\Github\\CrystalFieldCalculator\\PointChargeFunctions.py:54: RuntimeWarning: divide by zero encountered in true_divide\n",
      "  phi_vec = np.arctan(ions[:, 1] / ions[:, 0])\n",
      "C:\\Users\\Paul\\Google Drive\\Github\\CrystalFieldCalculator\\PointChargeFunctions.py:54: RuntimeWarning: invalid value encountered in true_divide\n",
      "  phi_vec = np.arctan(ions[:, 1] / ions[:, 0])\n"
     ]
    },
    {
     "data": {
      "image/png": "[encoded data removed]",
      "text/plain": [
       "<Figure size 432x288 with 1 Axes>"
      ]
     },
     "metadata": {
      "needs_background": "light"
     },
     "output_type": "display_data"
    },
    {
     "name": "stderr",
     "output_type": "stream",
     "text": [
      "C:\\Users\\Paul\\Google Drive\\Github\\CrystalFieldCalculator\\SpecFunctions.py:41: RuntimeWarning: overflow encountered in exp\n",
      "  z_pops = np.exp(-gs_dict['eigenvalues'] / (0.695 * temperature))\n",
      "C:\\Users\\Paul\\Google Drive\\Github\\CrystalFieldCalculator\\SpecFunctions.py:44: RuntimeWarning: invalid value encountered in true_divide\n",
      "  z_pops = z_pops / np.sum(z_pops)\n",
      "C:\\Users\\Paul\\Google Drive\\Github\\CrystalFieldCalculator\\SpecFunctions.py:45: RuntimeWarning: invalid value encountered in less\n",
      "  z_pops[z_pops < 1e-6] = 0.0\n"
     ]
    }
   ],
   "source": [
    "so_gs = StevensOperators(15/2)\n",
    "so_es = StevensOperators(13/2)\n",
    "sc = SpectrumCalculator()\n",
    "pc = PointCharge()\n",
    "\n",
    "zpos = 1e-10*np.linspace(1.0,2.0,301)\n",
    "x0 = 1.2e-10\n",
    "\n",
    "def gen_oh(x0):\n",
    "    iontest = np.asarray([[x0,0,0,-2],\n",
    "                     [-x0,0,0,-2],\n",
    "                     [0,x0,0,-2],\n",
    "                     [0,-x0,0,-2],\n",
    "                     [0,0,x0,-2],\n",
    "                     [0,0,-x0,-2]\n",
    "                     ])\n",
    "    return iontest\n",
    "\n",
    "def gen_dist_oh(x0,z0):\n",
    "    iontest = np.asarray([[x0,0,0,-2],\n",
    "                     [-x0,0,0,-2],\n",
    "                     [0,x0,0,-2],\n",
    "                     [0,-x0,0,-2],\n",
    "                     [0,0,z0,-2],\n",
    "                     [0,0,-z0,-2]\n",
    "                     ])\n",
    "    return iontest\n",
    "\n",
    "param_list = [pc.calc_cf_params(gen_dist_oh(x0,zval)) for zval in zpos]\n",
    "# ionpos[0]\n",
    "\n",
    "plt.figure()\n",
    "[plt.plot(zval,param_list[k]['B2'][0],'ko') for k,zval in enumerate(zpos)]\n",
    "[plt.plot(zval,param_list[k]['B4'][0]*60,'ro') for k,zval in enumerate(zpos)]\n",
    "[plt.plot(zval,param_list[k]['B6'][0]*13680,'co') for k,zval in enumerate(zpos)]\n",
    "plt.show()\n",
    "\n",
    "spec_all = np.zeros((1000,zpos.size))\n",
    "for k, dict_it in enumerate(param_list):\n",
    "    ham_gs = so_gs.build_ham(dict_it)\n",
    "    gs_ev_dict = so_gs.proc_ham(ham_gs)\n",
    "    ham_es = so_es.build_ham(dict_it)\n",
    "    es_ev_dict = so_es.proc_ham(ham_es)\n",
    "    print(k)\n",
    "    freq_ax,temp_spec = sc.calc_spectrum(gs_ev_dict,es_ev_dict,\n",
    "                                      Spectrum='Excitation',Temperature=1.0,Polarization='Linear')\n",
    "    temp_spec_con = sc.convolve_spectrum(freq_ax,temp_spec,5.)\n",
    "    spec_all[:,k] = temp_spec\n",
    "# iontest = genoh(x0)\n",
    "# spec_all = np.zeros((1000,zpos.size))\n",
    "\n",
    "# for k, zval in enumerate(zpos):\n",
    "# #     iontest = genoh(zval)\n",
    "#     iontest[4,2] = zval\n",
    "#     iontest[5,2] = -1*zval\n",
    "#     params = pc.calc_cf_params(iontest)\n",
    "#     ham_gs = so_gs.build_ham(params)\n",
    "#     gs_ev_dict = so_gs.proc_ham(ham_gs)\n",
    "#     ham_es = so_es.build_ham(params)\n",
    "#     es_ev_dict = so_es.proc_ham(ham_es)\n",
    "#     freq_ax,temp_spec = sc.calc_spectrum(gs_ev_dict,es_ev_dict,\n",
    "#                                       Spectrum='Excitation',Temperature=1.0,Polarization='Linear')\n",
    "#     temp_spec_con = sc.convolve_spectrum(freq_ax,temp_spec,5.)\n",
    "#     spec_all[:,k] = temp_spec\n"
   ]
  },
  {
   "cell_type": "code",
   "execution_count": 45,
   "metadata": {},
   "outputs": [
    {
     "data": {
      "image/png": "[encoded data removed]",
      "text/plain": [
       "<Figure size 432x288 with 1 Axes>"
      ]
     },
     "metadata": {
      "needs_background": "light"
     },
     "output_type": "display_data"
    }
   ],
   "source": [
    "plt.figure()\n",
    "plt.contourf(freq_ax,zpos,spec_all.T,40)\n",
    "plt.show()"
   ]
  }
 ],
 "metadata": {
  "kernelspec": {
   "display_name": "Python 3",
   "language": "python",
   "name": "python3"
  },
  "language_info": {
   "codemirror_mode": {
    "name": "ipython",
    "version": 3
   },
   "file_extension": ".py",
   "mimetype": "text/x-python",
   "name": "python",
   "nbconvert_exporter": "python",
   "pygments_lexer": "ipython3",
   "version": "3.7.6"
  }
 },
 "nbformat": 4,
 "nbformat_minor": 4
}
